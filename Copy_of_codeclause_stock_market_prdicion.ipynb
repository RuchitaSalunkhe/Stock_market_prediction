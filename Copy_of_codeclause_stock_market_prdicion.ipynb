{
  "nbformat": 4,
  "nbformat_minor": 0,
  "metadata": {
    "colab": {
      "provenance": [],
      "authorship_tag": "ABX9TyMCAp9wKWvqva46PAQx2pbp",
      "include_colab_link": true
    },
    "kernelspec": {
      "name": "python3",
      "display_name": "Python 3"
    },
    "language_info": {
      "name": "python"
    }
  },
  "cells": [
    {
      "cell_type": "markdown",
      "metadata": {
        "id": "view-in-github",
        "colab_type": "text"
      },
      "source": [
        "<a href=\"https://colab.research.google.com/github/RuchitaSalunkhe/Stock_market_prediction/blob/main/Copy_of_codeclause_stock_market_prdicion.ipynb\" target=\"_parent\"><img src=\"https://colab.research.google.com/assets/colab-badge.svg\" alt=\"Open In Colab\"/></a>"
      ]
    },
    {
      "cell_type": "code",
      "execution_count": null,
      "metadata": {
        "id": "JcjL1WrWSZY3"
      },
      "outputs": [],
      "source": [
        "import pandas as pd\n",
        "import numpy as np\n",
        "from sklearn.model_selection import train_test_split, cross_val_score\n",
        "from sklearn.linear_model import LinearRegression\n",
        "from sklearn.metrics import mean_squared_error"
      ]
    },
    {
      "cell_type": "code",
      "source": [
        "from google.colab import files\n",
        "uploaded=files.upload()"
      ],
      "metadata": {
        "id": "PplwUt5hSp4-"
      },
      "execution_count": null,
      "outputs": []
    },
    {
      "cell_type": "code",
      "source": [
        "from google.colab import files\n",
        "uploaded=files.upload()\n"
      ],
      "metadata": {
        "id": "T0DzRxMpTaoD"
      },
      "execution_count": null,
      "outputs": []
    },
    {
      "cell_type": "code",
      "source": [],
      "metadata": {
        "id": "E-F9jcwn8xwA"
      },
      "execution_count": null,
      "outputs": []
    },
    {
      "cell_type": "code",
      "source": [
        "df_msft =pd.read_csv(\"MSFT.csv\")\n",
        "df_reliance =pd.read_csv(\"RELIANCE.NS(1).csv\")"
      ],
      "metadata": {
        "id": "6J7TUSotTlj-"
      },
      "execution_count": null,
      "outputs": []
    },
    {
      "cell_type": "code",
      "source": [
        "display(df_msft)\n"
      ],
      "metadata": {
        "id": "3wy3CNlkU5PA"
      },
      "execution_count": null,
      "outputs": []
    },
    {
      "cell_type": "code",
      "source": [
        "display(df_reliance)"
      ],
      "metadata": {
        "id": "uHkKzrWHVA1g"
      },
      "execution_count": null,
      "outputs": []
    },
    {
      "cell_type": "code",
      "source": [
        "# Handling null values by filling with the mean\n",
        "df_msft.fillna(df_msft.mean(), inplace=True)\n",
        "df_reliance.fillna(df_reliance.mean(), inplace=True)"
      ],
      "metadata": {
        "id": "nFIeWeDUV7rc"
      },
      "execution_count": null,
      "outputs": []
    },
    {
      "cell_type": "code",
      "source": [
        "# Concatenate the datasets and create a target variable (label)\n",
        "df_combined = pd.concat([df_msft, df_reliance], ignore_index=True)\n",
        "df_combined['Next_Close'] = df_combined['Close'].shift(-1)"
      ],
      "metadata": {
        "id": "ignyDVb8Wjv_"
      },
      "execution_count": null,
      "outputs": []
    },
    {
      "cell_type": "code",
      "source": [
        "# Drop rows with NaN values in the 'Next_Close' column (last row would have NaN)\n",
        "df_combined.dropna(subset=['Next_Close'], inplace=True)\n"
      ],
      "metadata": {
        "id": "qV5JaCS2WqyW"
      },
      "execution_count": null,
      "outputs": []
    },
    {
      "cell_type": "code",
      "source": [
        "# Split the data into features (X) and target (y)\n",
        "X = df_combined[['Open', 'High', 'Low', 'Close', 'Adj Close', 'Volume']]\n",
        "y = df_combined['Next_Close']"
      ],
      "metadata": {
        "id": "1zFdmjXpWwoR"
      },
      "execution_count": null,
      "outputs": []
    },
    {
      "cell_type": "code",
      "source": [
        "# Split the data into training and testing sets\n",
        "X_train, X_test, y_train, y_test = train_test_split(X, y, test_size=0.2, random_state=42)"
      ],
      "metadata": {
        "id": "_cBtxyBAW7sE"
      },
      "execution_count": null,
      "outputs": []
    },
    {
      "cell_type": "code",
      "source": [
        "# Create and train the Linear Regression model\n",
        "model = LinearRegression()\n",
        "model.fit(X_train, y_train)"
      ],
      "metadata": {
        "id": "eWLf8pVoXQsS"
      },
      "execution_count": null,
      "outputs": []
    },
    {
      "cell_type": "code",
      "source": [
        "# Make predictions on the test data\n",
        "y_pred = model.predict(X_test)\n",
        "\n",
        "# Calculate the Mean Squared Error (MSE)\n",
        "mse = mean_squared_error(y_test, y_pred)\n",
        "print(\"Mean Squared Error (MSE):\", mse)"
      ],
      "metadata": {
        "id": "IPUvqCtwXYw0"
      },
      "execution_count": null,
      "outputs": []
    },
    {
      "cell_type": "code",
      "source": [
        "# Calculate the Mean Squared Error (MSE) on the test set\n",
        "mse_test = mean_squared_error(y_test, y_pred)\n",
        "print(\"Mean Squared Error (MSE) on the test set:\", mse_test)\n",
        "\n",
        "# Perform cross-validation to evaluate the model\n",
        "cv_scores = cross_val_score(model, X, y, cv=5, scoring='neg_mean_squared_error')\n",
        "mse_cv = -np.mean(cv_scores)\n",
        "print(\"Mean Squared Error (MSE) with cross-validation:\", mse_cv)"
      ],
      "metadata": {
        "id": "A2D113M8ZF7u"
      },
      "execution_count": null,
      "outputs": []
    },
    {
      "cell_type": "code",
      "source": [
        "# Now you can use the model to make predictions for new data (unseen data)\n",
        "# For example:\n",
        "new_data = pd.DataFrame([[100, 110, 95, 105, 102, 1000000]], columns=X.columns)\n",
        "predicted_close = model.predict(new_data)\n",
        "print(\"Predicted Close Price:\", predicted_close[0])"
      ],
      "metadata": {
        "id": "gTez3ETQXvZ3"
      },
      "execution_count": null,
      "outputs": []
    },
    {
      "cell_type": "code",
      "source": [],
      "metadata": {
        "id": "dqExDDJPZ5DC"
      },
      "execution_count": null,
      "outputs": []
    }
  ]
}